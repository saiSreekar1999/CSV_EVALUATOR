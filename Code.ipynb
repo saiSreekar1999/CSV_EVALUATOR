{
 "cells": [
  {
   "cell_type": "code",
   "execution_count": null,
   "metadata": {},
   "outputs": [],
   "source": [
    "from langchain.agents import create_csv_agent\n",
    "from langchain.llms import OpenAI\n",
    "from dotenv import load_dotenv\n",
    "import os\n",
    "import streamlit as st"
   ]
  },
  {
   "cell_type": "code",
   "execution_count": null,
   "metadata": {},
   "outputs": [],
   "source": [
    "def main():\n",
    "    load_dotenv()\n",
    "\n",
    "    # Load the OpenAI API key from the environment variable\n",
    "    if os.getenv(\"OPENAI_API_KEY\") is None or os.getenv(\"OPENAI_API_KEY\") == \"\":\n",
    "        print(\"OPENAI_API_KEY is not set\")\n",
    "        exit(1)\n",
    "    else:\n",
    "        print(\"OPENAI_API_KEY is set\")\n",
    "\n",
    "    st.set_page_config(page_title=\"Ask your CSV\")\n",
    "    st.header(\"Ask your CSV 📈\")\n",
    "\n",
    "    csv_file = st.file_uploader(\"Upload a CSV file\", type=\"csv\")\n",
    "    if csv_file is not None:\n",
    "\n",
    "        agent = create_csv_agent(\n",
    "            OpenAI(temperature=0), csv_file, verbose=True)\n",
    "\n",
    "        user_question = st.text_input(\"Ask a question about your CSV: \")\n",
    "\n",
    "        if user_question is not None and user_question != \"\":\n",
    "            with st.spinner(text=\"In progress...\"):\n",
    "                st.write(agent.run(user_question))\n",
    "\n",
    "\n",
    "if __name__ == \"__main__\":\n",
    "    main()"
   ]
  }
 ],
 "metadata": {
  "kernelspec": {
   "display_name": "base",
   "language": "python",
   "name": "python3"
  },
  "language_info": {
   "codemirror_mode": {
    "name": "ipython",
    "version": 3
   },
   "file_extension": ".py",
   "mimetype": "text/x-python",
   "name": "python",
   "nbconvert_exporter": "python",
   "pygments_lexer": "ipython3",
   "version": "3.11.5"
  }
 },
 "nbformat": 4,
 "nbformat_minor": 2
}
